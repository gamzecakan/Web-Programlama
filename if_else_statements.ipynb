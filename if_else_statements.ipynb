{
  "nbformat": 4,
  "nbformat_minor": 0,
  "metadata": {
    "colab": {
      "provenance": [],
      "include_colab_link": true
    },
    "kernelspec": {
      "name": "python3",
      "display_name": "Python 3"
    },
    "language_info": {
      "name": "python"
    }
  },
  "cells": [
    {
      "cell_type": "markdown",
      "metadata": {
        "id": "view-in-github",
        "colab_type": "text"
      },
      "source": [
        "<a href=\"https://colab.research.google.com/github/gamzecakan/Web-Programlama/blob/main/if_else_statements.ipynb\" target=\"_parent\"><img src=\"https://colab.research.google.com/assets/colab-badge.svg\" alt=\"Open In Colab\"/></a>"
      ]
    },
    {
      "cell_type": "code",
      "execution_count": 13,
      "metadata": {
        "colab": {
          "base_uri": "https://localhost:8080/"
        },
        "id": "aD_OzFaB5vmY",
        "outputId": "8980a81d-6d70-4dd5-a058-c31eabbb87cb"
      },
      "outputs": [
        {
          "output_type": "stream",
          "name": "stdout",
          "text": [
            "Good 🟩\n"
          ]
        }
      ],
      "source": [
        "# @title Varsayılan başlık metni\n",
        "celsius = 21\n",
        "if celsius > 20:\n",
        "  print('Good 🟩')"
      ]
    },
    {
      "cell_type": "code",
      "source": [
        "celsius = 18\n",
        "if celsius > 20:\n",
        "  print('Good 🟩')"
      ],
      "metadata": {
        "id": "74-_wZlL51f1"
      },
      "execution_count": null,
      "outputs": []
    },
    {
      "cell_type": "code",
      "source": [
        "celsius = 18\n",
        "if celsius > 20:\n",
        "  print('Good 🟩')\n",
        "else:\n",
        "  print('Cold ❄️')"
      ],
      "metadata": {
        "colab": {
          "base_uri": "https://localhost:8080/"
        },
        "id": "-SSIh0iv53K4",
        "outputId": "2c9a0fc8-cd9d-4c8f-8d99-76964b14a310"
      },
      "execution_count": null,
      "outputs": [
        {
          "output_type": "stream",
          "name": "stdout",
          "text": [
            "Cold ❄️\n"
          ]
        }
      ]
    },
    {
      "cell_type": "code",
      "source": [
        "celsius = 32\n",
        "if celsius > 30:print('Hot 🔥')\n",
        "if celsius > 20:\n",
        "  print('Good 🟩')\n",
        "else:\n",
        "  print('Cold ❄️')"
      ],
      "metadata": {
        "colab": {
          "base_uri": "https://localhost:8080/"
        },
        "id": "Wm_vcxQW544b",
        "outputId": "07cef8f9-b9d6-4687-b338-3536bbc96586"
      },
      "execution_count": 19,
      "outputs": [
        {
          "output_type": "stream",
          "name": "stdout",
          "text": [
            "Hot 🔥\n",
            "Good 🟩\n"
          ]
        }
      ]
    },
    {
      "cell_type": "code",
      "source": [
        "celsius=int(input(\"celsius derecesini giriniz: \"))\n",
        "print(\"celsius: \",celsius)\n",
        "if 10<celsius<30 : print(\"Good 🟩\")\n",
        "\n",
        "elif 30<celsius<70 : print(\"Hot 🔥\")\n",
        "\n",
        "elif -30<celsius<10 :print(\"Cold ❄️\")\n",
        "\n",
        "else:print(\"something went wrong!\")"
      ],
      "metadata": {
        "colab": {
          "base_uri": "https://localhost:8080/"
        },
        "id": "L1-d_yft6NtK",
        "outputId": "84a94562-23ba-4173-8037-c38fcb417d52"
      },
      "execution_count": 24,
      "outputs": [
        {
          "output_type": "stream",
          "name": "stdout",
          "text": [
            "celsius derecesini giriniz: -12\n",
            "celsius:  -12\n",
            "Cold ❄️\n"
          ]
        }
      ]
    },
    {
      "cell_type": "code",
      "source": [
        "celsius = 32\n",
        "if celsius > 30:\n",
        "  print('Hot 🔥')\n",
        "elif celsius > 20:\n",
        "  print('Good 🟩')\n",
        "else:\n",
        "  print('Cold ❄️')"
      ],
      "metadata": {
        "colab": {
          "base_uri": "https://localhost:8080/"
        },
        "id": "qE-u5u2W58p5",
        "outputId": "76a95715-80e9-4602-e00b-0f6760bed140"
      },
      "execution_count": null,
      "outputs": [
        {
          "output_type": "stream",
          "name": "stdout",
          "text": [
            "Hot 🔥\n"
          ]
        }
      ]
    },
    {
      "cell_type": "code",
      "source": [
        "celsius = 10\n",
        "\n",
        "if celsius > 30:\n",
        "  print('Hot 🔥')\n",
        "elif 30 >= celsius > 20:\n",
        "  print('Good 🟩')\n",
        "elif -273 < celsius <= 20:print('Cold ❄️')\n",
        "else:print('Something went wrong!')"
      ],
      "metadata": {
        "colab": {
          "base_uri": "https://localhost:8080/"
        },
        "id": "t3IOFpmW6FP1",
        "outputId": "780723fd-f727-458b-a642-9d3b703740b5"
      },
      "execution_count": 18,
      "outputs": [
        {
          "output_type": "stream",
          "name": "stdout",
          "text": [
            "Cold ❄️\n"
          ]
        }
      ]
    },
    {
      "cell_type": "code",
      "source": [
        "drivers_licence = True\n",
        "age = 17\n",
        "\n",
        "if age > 17:\n",
        "    if drivers_licence:\n",
        "        print('You can drive car')\n",
        "    else:\n",
        "        print('You need to go to a drivers licence course')\n",
        "else:\n",
        "    print('You need to get older')"
      ],
      "metadata": {
        "colab": {
          "base_uri": "https://localhost:8080/"
        },
        "id": "UEiL47E16HOp",
        "outputId": "782a6e41-874b-414f-d230-26d8449660b1"
      },
      "execution_count": 15,
      "outputs": [
        {
          "output_type": "stream",
          "name": "stdout",
          "text": [
            "You need to get older\n"
          ]
        }
      ]
    }
  ]
}